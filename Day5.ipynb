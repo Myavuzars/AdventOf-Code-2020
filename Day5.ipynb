{
 "cells": [
  {
   "cell_type": "markdown",
   "id": "massive-event",
   "metadata": {},
   "source": [
    "Day 5: Binary Boarding ---\n",
    "\n",
    "You board your plane only to discover a new problem: you dropped your boarding pass! You aren't sure which seat is yours, and all of the flight attendants are busy with the flood of people that suddenly made it through passport control.\n",
    "\n",
    "You write a quick program to use your phone's camera to scan all of the nearby boarding passes (your puzzle input); perhaps you can find your seat through process of elimination.\n",
    "\n",
    "Instead of zones or groups, this airline uses binary space partitioning to seat people. A seat might be specified like FBFBBFFRLR, where F means \"front\", B means \"back\", L means \"left\", and R means \"right\".\n",
    "\n",
    "The first 7 characters will either be F or B; these specify exactly one of the 128 rows on the plane (numbered 0 through 127). Each letter tells you which half of a region the given seat is in. Start with the whole list of rows; the first letter indicates whether the seat is in the front (0 through 63) or the back (64 through 127). The next letter indicates which half of that region the seat is in, and so on until you're left with exactly one row.\n",
    "\n",
    "For example, consider just the first seven characters of FBFBBFFRLR:\n",
    "\n",
    "Start by considering the whole range, rows 0 through 127.\n",
    "\n",
    "F means to take the lower half, keeping rows 0 through 63.\n",
    "\n",
    "B means to take the upper half, keeping rows 32 through 63.\n",
    "\n",
    "F means to take the lower half, keeping rows 32 through 47.\n",
    "\n",
    "B means to take the upper half, keeping rows 40 through 47.\n",
    "\n",
    "B keeps rows 44 through 47.\n",
    "\n",
    "F keeps rows 44 through 45.\n",
    "\n",
    "The final F keeps the lower of the two, row 44.\n",
    "\n",
    "The last three characters will be either L or R; these specify exactly one of the 8 columns of seats on the plane (numbered 0 through 7). The same process as above proceeds again, this time with only three steps. L means to keep the lower half, while R means to keep the upper half.\n",
    "\n",
    "For example, consider just the last 3 characters of FBFBBFFRLR:\n",
    "\n",
    "Start by considering the whole range, columns 0 through 7.\n",
    "\n",
    "R means to take the upper half, keeping columns 4 through 7.\n",
    "\n",
    "L means to take the lower half, keeping columns 4 through 5.\n",
    "\n",
    "The final R keeps the upper of the two, column 5.\n",
    "\n",
    "So, decoding FBFBBFFRLR reveals that it is the seat at row 44, column 5.\n",
    "\n",
    "Every seat also has a unique seat ID: multiply the row by 8, then add the column. In this example, the seat has ID 44 * 8 + 5 = 357.\n",
    "\n",
    "Here are some other boarding passes:\n",
    "\n",
    "BFFFBBFRRR: row 70, column 7, seat ID 567.\n",
    "\n",
    "FFFBBBFRRR: row 14, column 7, seat ID 119.\n",
    "\n",
    "BBFFBBFRLL: row 102, column 4, seat ID 820.\n",
    "\n",
    "As a sanity check, look through your list of boarding passes. What is the highest seat ID on a boarding pass?\n",
    "\n",
    "Your puzzle answer was 928.\n",
    "\n"
   ]
  },
  {
   "cell_type": "code",
   "execution_count": 1,
   "id": "celtic-percentage",
   "metadata": {},
   "outputs": [
    {
     "name": "stdout",
     "output_type": "stream",
     "text": [
      "928\n"
     ]
    }
   ],
   "source": [
    "#Q5A.B.\n",
    "def rows(boarding):\n",
    "    num =128\n",
    "    row = [str(x) for  x in range(128)]\n",
    "    number=8\n",
    "    seat = [str(y) for y in range(8)]\n",
    "    for i in boarding[:7]:\n",
    "        if i=='B':\n",
    "            row=row[num//2:]\n",
    "        else:\n",
    "            row=row[:num//2]\n",
    "        num=num//2   \n",
    "\n",
    "\n",
    "    for i in boarding[-3:]:\n",
    "        if i=='R':\n",
    "            seat=seat[number//2:]\n",
    "        else:\n",
    "            seat=seat[:number//2]\n",
    "        number=number//2\n",
    "    \n",
    "    return (row, seat)   \n",
    "\n",
    "############################\n",
    "with open(\"C:/Users/myavu/OneDrive/Desktop/Questions/2020/Q5.txt\") as  f:\n",
    "        boards = f.read().splitlines()\n",
    "b =[board for board in boards]\n",
    "\n",
    "\n",
    "############################\n",
    "#A.\n",
    "results=[]\n",
    "for u in b:\n",
    "    calc= int(rows(u)[0][0])*8 + int(rows(u)[1][0])\n",
    "    results.append(int(calc))\n",
    "    calc= 1\n",
    "   \n",
    "print(max(results))\n",
    "\n"
   ]
  },
  {
   "cell_type": "markdown",
   "id": "better-sherman",
   "metadata": {},
   "source": [
    "--- Part Two ---\n",
    "Ding! The \"fasten seat belt\" signs have turned on. Time to find your seat.\n",
    "\n",
    "It's a completely full flight, so your seat should be the only missing boarding pass in your list. However, there's a catch: some of the seats at the very front and back of the plane don't exist on this aircraft, so they'll be missing from your list as well.\n",
    "\n",
    "Your seat wasn't at the very front or back, though; the seats with IDs +1 and -1 from yours will be in your list.\n",
    "\n",
    "What is the ID of your seat?\n",
    "\n",
    "Your puzzle answer was 610."
   ]
  },
  {
   "cell_type": "code",
   "execution_count": 2,
   "id": "portuguese-salon",
   "metadata": {},
   "outputs": [
    {
     "name": "stdout",
     "output_type": "stream",
     "text": [
      "91\n",
      "928\n",
      "610\n"
     ]
    }
   ],
   "source": [
    "###########################\n",
    "#B.\n",
    "print(min(results))\n",
    "print(max(results))\n",
    "listA= [x  for x in range(91,928)]\n",
    "\n",
    "for i in listA:\n",
    "    if i not in results:\n",
    "        print(i)"
   ]
  },
  {
   "cell_type": "code",
   "execution_count": null,
   "id": "binary-gravity",
   "metadata": {},
   "outputs": [],
   "source": []
  }
 ],
 "metadata": {
  "kernelspec": {
   "display_name": "Python 3",
   "language": "python",
   "name": "python3"
  },
  "language_info": {
   "codemirror_mode": {
    "name": "ipython",
    "version": 3
   },
   "file_extension": ".py",
   "mimetype": "text/x-python",
   "name": "python",
   "nbconvert_exporter": "python",
   "pygments_lexer": "ipython3",
   "version": "3.6.12"
  }
 },
 "nbformat": 4,
 "nbformat_minor": 5
}
