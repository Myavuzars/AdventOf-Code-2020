{
 "cells": [
  {
   "cell_type": "code",
   "execution_count": null,
   "id": "chief-studio",
   "metadata": {},
   "outputs": [],
   "source": [
    "#Roman alphabet converter\n",
    "\n",
    "def rom(num):\n",
    "    val = [1000, 900, 500, 400,  100,  90,  50,   40,  10,   9,   5,   4,    1 ]\n",
    "    syb = [\"M\", \"CM\", \"D\", \"CD\", \"C\", \"XC\", \"L\", \"XL\",\"X\", \"IX\", \"V\", \"IV\", \"I\" ]\n",
    "    roman='' \n",
    "    while num > 0:\n",
    "        for i in range(len(val)):\n",
    "            if num>=val[i]:\n",
    "                num=num-val[i]\n",
    "                roman=roman+syb[i]\n",
    "                break\n",
    "    return roman\n",
    "rom(1934)"
   ]
  }
 ],
 "metadata": {
  "kernelspec": {
   "display_name": "Python 3",
   "language": "python",
   "name": "python3"
  },
  "language_info": {
   "codemirror_mode": {
    "name": "ipython",
    "version": 3
   },
   "file_extension": ".py",
   "mimetype": "text/x-python",
   "name": "python",
   "nbconvert_exporter": "python",
   "pygments_lexer": "ipython3",
   "version": "3.6.12"
  }
 },
 "nbformat": 4,
 "nbformat_minor": 5
}
