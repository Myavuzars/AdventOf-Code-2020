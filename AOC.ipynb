{
 "cells": [
  {
   "cell_type": "markdown",
   "id": "funny-marathon",
   "metadata": {},
   "source": [
    "PYTHON PRACTICES"
   ]
  },
  {
   "cell_type": "code",
   "execution_count": 27,
   "id": "unable-theorem",
   "metadata": {},
   "outputs": [
    {
     "name": "stdout",
     "output_type": "stream",
     "text": [
      "477\n"
     ]
    }
   ],
   "source": [
    "#Q2B\n",
    "with open('C:/Users/myavu/OneDrive/Desktop/Questions/q2.txt') as f:\n",
    "    lines =f.readlines()\n",
    "\n",
    "coun=0\n",
    "for i in range(len(lines)):\n",
    "    count=0\n",
    "    for j in  lines[i].split(' ')[2]:\n",
    "        if j== (lines[i].split(' ')[1]):\n",
    "            count +=1\n",
    "    if (count<= int(lines[i].split('-')[1].split()[0])) and (count>= int(lines[i].split('-')[0])):\n",
    "        coun +=1\n",
    "        \n",
    "print(coun)   "
   ]
  },
  {
   "cell_type": "code",
   "execution_count": 28,
   "id": "anticipated-potential",
   "metadata": {},
   "outputs": [
    {
     "name": "stdout",
     "output_type": "stream",
     "text": [
      "247\n"
     ]
    }
   ],
   "source": [
    "#Q3A.\n",
    "\n",
    "with open('C:/Users/myavu/OneDrive/Desktop/Questions/q3.txt') as f:\n",
    "    lines =f.readlines()\n",
    "    \n",
    "leng =len(lines)\n",
    "count=0\n",
    "for i in range(leng):\n",
    "    x = lines[i][0:31]*50\n",
    "    j=int(i)*3\n",
    "\n",
    "    if x[j]=='#':\n",
    "        count +=1\n",
    "print(count)"
   ]
  },
  {
   "cell_type": "code",
   "execution_count": 29,
   "id": "exotic-mustang",
   "metadata": {},
   "outputs": [
    {
     "name": "stdout",
     "output_type": "stream",
     "text": [
      "[78, 247, 68, 69, 33]\n"
     ]
    }
   ],
   "source": [
    "#Q3B.\n",
    "\n",
    "import math\n",
    "with open('C:/Users/myavu/OneDrive/Desktop/Questions/q3.txt') as f:\n",
    "    lines =f.read().splitlines()\n",
    "routes= ((1,1),(3,1),(5,1),(7,1),(1,2))\n",
    "\n",
    "totals=[]\n",
    "for route in routes:\n",
    "    count=0\n",
    "    c=0\n",
    "    for i in range(0,len(lines),route[1]):\n",
    "        x = lines[i][0:31]*150\n",
    "        j=int(c)*route[0]\n",
    "        if x[j]=='#':\n",
    "            count +=1\n",
    "        c+=1            \n",
    "        \n",
    "    totals.append(count)\n",
    "print(totals)\n",
    "#Multiply them"
   ]
  },
  {
   "cell_type": "code",
   "execution_count": 26,
   "id": "original-walnut",
   "metadata": {},
   "outputs": [
    {
     "name": "stdout",
     "output_type": "stream",
     "text": [
      "222\n",
      "140\n"
     ]
    }
   ],
   "source": [
    "#This is Ali Spittel's solution\n",
    "#4A.B.\n",
    "class Validator:\n",
    "    def __init__(self, passport):\n",
    "        self.passport = passport\n",
    "\n",
    "    def check_field_count(self):\n",
    "        return len(self.passport) == 8 or (len(self.passport) == 7 and 'cid' not in self.passport)\n",
    "\n",
    "    def check_year(self, key, start, end):\n",
    "        return len(self.passport[key]) == 4 and int(self.passport[key]) >= start and int(self.passport[key]) <= end\n",
    "\n",
    "    def check_byr(self):\n",
    "        return self.check_year('byr', 1920, 2002)\n",
    "\n",
    "    def check_iyr(self):\n",
    "        return self.check_year('iyr', 2010, 2020)\n",
    "\n",
    "    def check_eyr(self):\n",
    "        return self.check_year('eyr', 2020, 2030)\n",
    "\n",
    "    def check_hcl(self):\n",
    "        return self.passport['hcl'][0] == \"#\" and self.passport['hcl'][1:].isalnum()\n",
    "\n",
    "    def check_ecl(self):\n",
    "        return self.passport['ecl'] in ['amb', 'blu', 'brn', 'gry', 'grn', 'hzl', 'oth']\n",
    "\n",
    "    def check_pid(self):\n",
    "        return len(self.passport['pid']) == 9\n",
    "\n",
    "    def check_hgt(self):\n",
    "        if self.passport['hgt'][-2:] == \"cm\":\n",
    "            return int(self.passport['hgt'][:-2]) >= 150 and int(self.passport['hgt'][:-2]) <= 193\n",
    "        elif self.passport['hgt'][-2:] == \"in\":\n",
    "            return int(self.passport['hgt'][:-2]) >= 59 and int(self.passport['hgt'][:-2]) <= 76\n",
    "\n",
    "    def is_valid(self):\n",
    "        return (self.check_field_count() and self.check_byr() and self.check_iyr() and self.check_eyr() \n",
    "            and self.check_hcl() and self.check_ecl() and self.check_pid() and self.check_hgt())\n",
    "\n",
    "\n",
    "def get_passports(inp):\n",
    "    passports = []\n",
    "    passport = {}\n",
    "    for line in inp:\n",
    "        if line != \"\\n\":\n",
    "            line = line.rstrip().split(\" \")\n",
    "            line = [field.split(\":\") for field in line]\n",
    "            for field in line:\n",
    "                passport[field[0]] = field[1]\n",
    "        else:\n",
    "            passports.append(passport)\n",
    "            passport = {}\n",
    "    passports.append(passport)\n",
    "    return passports\n",
    "\n",
    "\n",
    "with open(\"C:/Users/myavu/OneDrive/Desktop/Questions/q4.txt\") as inp:\n",
    "    passports = get_passports(inp)\n",
    "    validators = [Validator(passport) for passport in passports]\n",
    "    part_1_count = 0\n",
    "    part_2_count = 0\n",
    "    for validator in validators:\n",
    "        if validator.check_field_count(): \n",
    "            part_1_count += 1\n",
    "        if validator.is_valid(): \n",
    "            part_2_count += 1                        \n",
    "\n",
    "    print(part_1_count) \n",
    "    print(part_2_count) "
   ]
  },
  {
   "cell_type": "code",
   "execution_count": null,
   "id": "central-directive",
   "metadata": {},
   "outputs": [],
   "source": [
    "#Roman alphabet converter\n",
    "class py_solution:\n",
    "    def int_to_Roman(self, num):\n",
    "        val = [\n",
    "            1000, 900, 500, 400,\n",
    "            100, 90, 50, 40,\n",
    "            10, 9, 5, 4,\n",
    "            1\n",
    "            ]\n",
    "        syb = [\n",
    "            \"M\", \"CM\", \"D\", \"CD\",\n",
    "            \"C\", \"XC\", \"L\", \"XL\",\n",
    "            \"X\", \"IX\", \"V\", \"IV\",\n",
    "            \"I\"\n",
    "            ]\n",
    "        roman_num = ''\n",
    "        i = 0\n",
    "        while  num > 0:\n",
    "            for rt in range(num // val[i]):\n",
    "                roman_num += syb[i]\n",
    "                num -= val[i]\n",
    "            i += 1\n",
    "        return roman_num\n",
    "\n",
    "\n",
    "print(py_solution().int_to_Roman(1))\n",
    "print(py_solution().int_to_Roman(4588))"
   ]
  },
  {
   "cell_type": "code",
   "execution_count": 24,
   "id": "mounted-identifier",
   "metadata": {},
   "outputs": [
    {
     "name": "stdout",
     "output_type": "stream",
     "text": [
      "928\n",
      "91\n",
      "928\n",
      "610\n"
     ]
    }
   ],
   "source": [
    "#Q5A.B.\n",
    "def rows(boarding):\n",
    "    num =128\n",
    "    row = [str(x) for  x in range(128)]\n",
    "    number=8\n",
    "    seat = [str(y) for y in range(8)]\n",
    "    for i in boarding[:7]:\n",
    "        if i=='B':\n",
    "            row=row[num//2:]\n",
    "        else:\n",
    "            row=row[:num//2]\n",
    "        num=num//2   \n",
    "\n",
    "\n",
    "    for i in boarding[-3:]:\n",
    "        if i=='R':\n",
    "            seat=seat[number//2:]\n",
    "        else:\n",
    "            seat=seat[:number//2]\n",
    "        number=number//2\n",
    "    \n",
    "    return (row, seat)   \n",
    "\n",
    "############################\n",
    "with open(\"C:/Users/myavu/OneDrive/Desktop/Questions/Q5.txt\") as  f:\n",
    "        boards = f.read().splitlines()\n",
    "b =[board for board in boards]\n",
    "#print(b)\n",
    "\n",
    "############################\n",
    "#A.\n",
    "results=[]\n",
    "for u in b:\n",
    "    calc= int(rows(u)[0][0])*8 + int(rows(u)[1][0])\n",
    "    results.append(int(calc))\n",
    "    calc= 1\n",
    "   \n",
    "print(max(results))\n",
    "\n",
    "###########################\n",
    "#B.\n",
    "print(min(results))\n",
    "print(max(results))\n",
    "listA= [x  for x in range(91,928)]\n",
    "\n",
    "for i in listA:\n",
    "    if i not in results:\n",
    "        print(i)\n"
   ]
  },
  {
   "cell_type": "code",
   "execution_count": 19,
   "id": "corporate-climb",
   "metadata": {},
   "outputs": [
    {
     "name": "stdout",
     "output_type": "stream",
     "text": [
      "6809\n"
     ]
    }
   ],
   "source": [
    "#6A.\n",
    "with open (\"C:/Users/myavu/OneDrive/Desktop/Questions/q6.txt\") as f:\n",
    "    lines =f.read().splitlines()\n",
    "\n",
    "data=[]\n",
    "count =[]\n",
    "x=''\n",
    "for line in lines:\n",
    "    if line != '':\n",
    "        x += line\n",
    "        x += ''\n",
    "    else:\n",
    "        data.append(x)\n",
    "        x=''\n",
    "data.append(x)\n",
    "\n",
    "\n",
    "for item in data:\n",
    "    x=len(set(item))\n",
    "    count.append(x)\n",
    "#print(count)\n",
    "print(sum(count))"
   ]
  },
  {
   "cell_type": "code",
   "execution_count": 21,
   "id": "documentary-cattle",
   "metadata": {},
   "outputs": [
    {
     "name": "stdout",
     "output_type": "stream",
     "text": [
      "3394\n"
     ]
    }
   ],
   "source": [
    "#6B.\n",
    "with open (\"C:/Users/myavu/OneDrive/Desktop/Questions/q6.txt\") as f:\n",
    "    lines =f.read().splitlines()\n",
    "\n",
    "data=[]\n",
    "count =[]\n",
    "field=[]   \n",
    "for line in lines:    \n",
    "    if line != '':\n",
    "        #print(line)\n",
    "        field.append(line)\n",
    "        #print(field)\n",
    "        #print(\"----\")\n",
    "    else:\n",
    "        data.append(field)\n",
    "        field=[]\n",
    "data.append(field)        \n",
    "        \n",
    "#print(data)        \n",
    "#######################\n",
    "count=0\n",
    "for item in data:\n",
    "    if len(item)==1:\n",
    "        n= len(item[0])\n",
    "        count +=n        \n",
    "    elif len(item) != 1:\n",
    "        for i in item[0]:\n",
    "            #print(i)\n",
    "            #print(count)\n",
    "            #print(item[1:])\n",
    "            if all(i in item[k:][0] for k in range(1,len(item))):\n",
    "                    count +=1\n",
    "                    #print(count) \n",
    "        #print(\"############\")\n",
    "        \n",
    "print(count)"
   ]
  },
  {
   "cell_type": "code",
   "execution_count": null,
   "id": "unauthorized-following",
   "metadata": {},
   "outputs": [],
   "source": []
  }
 ],
 "metadata": {
  "kernelspec": {
   "display_name": "Python 3",
   "language": "python",
   "name": "python3"
  },
  "language_info": {
   "codemirror_mode": {
    "name": "ipython",
    "version": 3
   },
   "file_extension": ".py",
   "mimetype": "text/x-python",
   "name": "python",
   "nbconvert_exporter": "python",
   "pygments_lexer": "ipython3",
   "version": "3.6.12"
  }
 },
 "nbformat": 4,
 "nbformat_minor": 5
}
